{
  "cells": [
    {
      "cell_type": "markdown",
      "metadata": {
        "id": "X_E5pzB66QcU"
      },
      "source": [
        "#  Email spam classification"
      ]
    },
    {
      "cell_type": "markdown",
      "metadata": {
        "id": "T7FAT96q6QcV"
      },
      "source": [
        "   - Get the data from: http://www.andrew.cmu.edu/user/georgech/preprocessed-enron-email-dataset.zip\n",
        "   - Unzip this into the same folder as this notebook, rename it to `email-data`\n",
        "   - The folder contains 3 subfolders:\n",
        "      - `ham` contains ham emails.\n",
        "      - `spam` contains spam emails.\n",
        "      - `testing` is a folder containing test emails for your classifier. The ham/spam label is in the filename.\n",
        "      \n",
        "**Important**: For this problem, do *not* use neural nets/deep nets."
      ]
    },
    {
      "cell_type": "markdown",
      "metadata": {
        "id": "UoW6iqVe6QcW"
      },
      "source": [
        "**(a) Print the number of ham and spam emails [1 point]**\n",
        "\n",
        "In addition to providing the code, respond to the following questions:\n",
        "\n",
        "   - Is this dataset imbalanced? Will this be problematic in training the model?\n",
        "   - If so, how would you address it? (You do *not* have to implement what you suggest here for later parts of the problem.)"
      ]
    },
    {
      "cell_type": "code",
      "execution_count": null,
      "metadata": {
        "id": "fWhpBcFx6QcX",
        "outputId": "47e15cd2-8579-42dc-940e-3626f045a859"
      },
      "outputs": [
        {
          "name": "stdout",
          "output_type": "stream",
          "text": [
            "Ham Email Count:  1500\n",
            "Spam Email Count:  3671\n"
          ]
        }
      ],
      "source": [
        "#your code here\n",
        "import glob\n",
        "ham_emails=[]\n",
        "spam_emails=[]\n",
        "\n",
        "for filepath in glob.iglob('./email-data/ham/*ham.txt'):\n",
        "    hamfileName=filepath.split(\"\\\\\")[1]\n",
        "    ham_emails.append(hamfileName)\n",
        "    \n",
        "for filepath in glob.iglob('./email-data/spam/*spam.txt'):\n",
        "    spamfileName=filepath.split(\"\\\\\")[1]\n",
        "    spam_emails.append(spamfileName)\n",
        "    \n",
        "    \n",
        "print(\"Ham Email Count: \",len(ham_emails))\n",
        "print(\"Spam Email Count: \",len(spam_emails))"
      ]
    },
    {
      "cell_type": "markdown",
      "metadata": {
        "id": "l-hc9yg_6QcZ"
      },
      "source": [
        "**Your answers to the above questions:**\n",
        "1. Technically, yes, the data is imbalanced as the number of spam emails(majority class) is more than the number of ham emails (minority class). This can be considered as a case of severe class imbalance as opposed to a slight imbalance, since the distribution of spam vs ham examples is uneven by a large amount in training dataset. There is a 29(ham)/61(spam) distribution meaning it is highly skewed towards the spam class. (Essentially, only 29% of the training data is ham, while 61% is spam).\n",
        "\n",
        "This could be problematic/challening in training the model as most classification algorithms work with the underlying assumption that the data is equally distributed across the classes. Using the current distribution would result in a model that shows poor predictive performance for the minority class, ham. If it is more important to not mark a ham email as spam (and this is generally the case), this problem is more sensitive to classification errors. \n",
        "\n",
        "2. A good way to circumvent the imbalanced classification problem is to use undersampling where we could use all the ham emails and randomly select the same number of spam emails (as ham emails) several times to make multiple data sets, and then combine all the classification results. This is a good way to avoid losing any information. "
      ]
    },
    {
      "cell_type": "markdown",
      "metadata": {
        "id": "9_uwqGYZ6Qca"
      },
      "source": [
        "**(b) Construct the documents [4 points]**\n",
        " \n",
        "   - Provided below is a function that returns a document present in a file given a fileName.\n",
        "   - The function performs some preprocessing to (1) remove punctuation, (2),(3) remove whitespace and (4) lowercase all words.\n",
        "   - Use this function to construct a list of documents.\n",
        "   - Also construct a list of document labels containing `1` for spam and `0` for ham."
      ]
    },
    {
      "cell_type": "code",
      "execution_count": null,
      "metadata": {
        "id": "FyG748Ft6Qca"
      },
      "outputs": [],
      "source": [
        "import re\n",
        "import string\n",
        "import codecs\n",
        "\n",
        "def makeWordList(path):\n",
        "    \n",
        "    with codecs.open(path, \"r\", encoding='utf-8', errors='ignore') as f:\n",
        "        corpus_text = f.read()\n",
        "\n",
        "    for c in string.punctuation:\n",
        "        corpus_text = corpus_text.replace(c, \"\")  # -- (1)\n",
        "    \n",
        "    text = re.sub(r'\\S*\\d\\S*','',corpus_text) # -- (2)\n",
        "    text = re.sub(r'[^\\w\\s]','',text)         # -- (3)\n",
        "    \n",
        "    text = text.lower().split()           # -- (4)         \n",
        "    \n",
        "    li = []\n",
        "    for token in text:\n",
        "        li.append(token)\n",
        "\n",
        "    return \" \".join(li)"
      ]
    },
    {
      "cell_type": "code",
      "execution_count": null,
      "metadata": {
        "id": "0oX-HPI66Qcb"
      },
      "outputs": [],
      "source": [
        "#your code here\n",
        "processed_documents=[]\n",
        "document_labels=[]\n",
        "\n",
        "for hamfilepath in glob.iglob('./email-data/ham/*ham.txt'):\n",
        "    processed_documents.append(makeWordList(hamfilepath))\n",
        "    document_labels.append(0)\n",
        "    \n",
        "for spamfilepath in glob.iglob('./email-data/spam/*spam.txt'):\n",
        "    processed_documents.append(makeWordList(spamfilepath))\n",
        "    document_labels.append(1)"
      ]
    },
    {
      "cell_type": "markdown",
      "metadata": {
        "id": "MPJs_Cb86Qcc"
      },
      "source": [
        "**(c) Construct the document matrix `X` as a matrix of word frequencies [5 points]**\n",
        "\n",
        "   - Use the `CountVectorizer` from scikit-learn.\n",
        "   - Set `min_df=50`; this drops words that don't occur in at least 50 documents.\n",
        "   - Set `stop_words=\"english\"` and `max_df=0.8` to filter out stop-words.\n",
        "   - Print the size of the vocabulary (number of unique words)"
      ]
    },
    {
      "cell_type": "code",
      "execution_count": null,
      "metadata": {
        "id": "w3EZcPfC6Qcc"
      },
      "outputs": [],
      "source": [
        "#your code here\n",
        "from sklearn.feature_extraction.text import CountVectorizer\n",
        "\n",
        "vectorizer=CountVectorizer(max_df=0.8,min_df=50,stop_words='english')\n",
        "\n",
        "X=vectorizer.fit_transform(processed_documents)"
      ]
    },
    {
      "cell_type": "code",
      "execution_count": null,
      "metadata": {
        "id": "ay4aqiFT6Qcc",
        "outputId": "60484136-26f5-4666-cd93-118b2ac18c9d"
      },
      "outputs": [
        {
          "name": "stdout",
          "output_type": "stream",
          "text": [
            "Number of unique words:  1680\n"
          ]
        }
      ],
      "source": [
        "print(\"Number of unique words: \",X.shape[1])  #Vocabulary size for the 5171 documents"
      ]
    },
    {
      "cell_type": "markdown",
      "metadata": {
        "id": "MSt9R5Fn6Qcd"
      },
      "source": [
        "**(d) k-NN and random forest: Hyperparameter selection [10 points]**\n",
        "\n",
        "Now that you have your documents and labels as training data, you can perform 5-fold cross-validation to select the hyperparameters for different learning algorithms.\n",
        "\n",
        "The hyperparameter with the best performance averaged across 5 folds is chosen. Use the **weighted F1-score** as the evaluation metric (i.e., for the `f1_score` function imported from `sklearn.metrics`, be sure to use the parameter `average='weighted'`).\n",
        "\n",
        "   - k-NN: Select `k` from a range of values of your choice.\n",
        "   - Random forest: Select `max_features` **and** `min_samples_leaf` from a grid of your choice.\n",
        "\n",
        "Store each chosen hyperparameter as `best_k`, `best_max_features`, and `best_min_samples_leaf` respectively.\n",
        "\n",
        "Provided is some seed code for cross-validation that you may modify and reuse. Do not use the cross-validations score or grid-search functions from scikit-learn (you may use `KFold`)."
      ]
    },
    {
      "cell_type": "code",
      "execution_count": null,
      "metadata": {
        "id": "SVpy8JOB6Qcd",
        "outputId": "773891f2-53ef-4e6e-9610-8ca89e9b3738"
      },
      "outputs": [
        {
          "name": "stdout",
          "output_type": "stream",
          "text": [
            "Hyperparameter: (11, 1) cross validation score: 0.9881461292976711\n",
            "Hyperparameter: (11, 2) cross validation score: 0.9834165902742077\n",
            "Hyperparameter: (11, 4) cross validation score: 0.9713043953276259\n",
            "Hyperparameter: (11, 8) cross validation score: 0.9498031539027915\n",
            "Hyperparameter: (11, 16) cross validation score: 0.9195216891609774\n",
            "Hyperparameter: (41, 1) cross validation score: 0.988568013213186\n",
            "Hyperparameter: (41, 2) cross validation score: 0.9840407496716704\n",
            "Hyperparameter: (41, 4) cross validation score: 0.9814661063271863\n",
            "Hyperparameter: (41, 8) cross validation score: 0.9737394649254723\n",
            "Hyperparameter: (41, 16) cross validation score: 0.9626759501851767\n",
            "Hyperparameter: (164, 1) cross validation score: 0.9798744467984735\n",
            "Hyperparameter: (164, 2) cross validation score: 0.9796281404172689\n",
            "Hyperparameter: (164, 4) cross validation score: 0.9756366990425047\n",
            "Hyperparameter: (164, 8) cross validation score: 0.9707016974403787\n",
            "Hyperparameter: (164, 16) cross validation score: 0.9627255583165905\n",
            "Best hyperparameter setting: (41, 1)\n"
          ]
        }
      ],
      "source": [
        "from sklearn.model_selection import KFold\n",
        "from sklearn.ensemble import RandomForestClassifier\n",
        "from sklearn.metrics import f1_score\n",
        "import numpy as np\n",
        "\n",
        "num_folds = 5\n",
        "k_fold = KFold(num_folds,shuffle=True,random_state=0)\n",
        "num_features=X.shape[1]\n",
        "hyperparameter_settings = [(max_features,min_samples_leaf)\n",
        "                          for max_features in [int(np.ceil(np.sqrt(num_features)/4)),\n",
        "                                              int(np.ceil(np.sqrt(num_features))),\n",
        "                                              int(np.ceil(np.sqrt(num_features)*4))]\n",
        "                           for min_samples_leaf in [1,2,4,8,16]] \n",
        "\n",
        "best_hyperparam_setting = None\n",
        "best_cross_val_score = -np.inf  # assumes that a higher score is better\n",
        "for hyperparam_setting in hyperparameter_settings:\n",
        "    max_features, min_samples_leaf=hyperparam_setting\n",
        "    fold_scores = []\n",
        "    for proper_train_indices, val_indices in k_fold.split(X.toarray()):\n",
        "        proper_train_features=X.toarray()[proper_train_indices]\n",
        "        proper_train_labels=np.array(document_labels)[proper_train_indices]\n",
        "        val_features=X.toarray()[val_indices]\n",
        "        val_labels=np.array(document_labels)[val_indices]\n",
        "        \n",
        "        \n",
        "        rf_classifier=RandomForestClassifier(max_features=max_features,min_samples_leaf=min_samples_leaf,\n",
        "                                         random_state=0)\n",
        "        rf_classifier.fit(proper_train_features,proper_train_labels)\n",
        "        predicted_val_labels=rf_classifier.predict(val_features)\n",
        "        f1score=f1_score(val_labels,predicted_val_labels,average='weighted')\n",
        "        fold_scores.append(f1score)\n",
        "    \n",
        "    cross_val_score = np.mean(fold_scores)\n",
        "    print('Hyperparameter:', hyperparam_setting, 'cross validation score:', cross_val_score)\n",
        "    if cross_val_score > best_cross_val_score:  # assumes that a higher score is better\n",
        "        best_cross_val_score = cross_val_score\n",
        "        best_hyperparam_setting = hyperparam_setting\n",
        "\n",
        "print('Best hyperparameter setting:', best_hyperparam_setting)"
      ]
    },
    {
      "cell_type": "code",
      "execution_count": null,
      "metadata": {
        "id": "mARYO_Qh6Qce",
        "outputId": "1c49a02b-6e39-4d44-e93d-88b41af74f06"
      },
      "outputs": [
        {
          "name": "stdout",
          "output_type": "stream",
          "text": [
            "k: 1 cross validation score: 0.9390623609919132\n",
            "k: 2 cross validation score: 0.9269690936582229\n",
            "k: 4 cross validation score: 0.9439985653337788\n",
            "k: 8 cross validation score: 0.9211335942514947\n",
            "k: 16 cross validation score: 0.8936872160575631\n",
            "k: 32 cross validation score: 0.8514700866035628\n",
            "k: 64 cross validation score: 0.8248876683277064\n",
            "k: 128 cross validation score: 0.7879986700117027\n",
            "k: 256 cross validation score: 0.7527813281213498\n",
            "k: 512 cross validation score: 0.7172745903119837\n",
            "k: 1024 cross validation score: 0.65665615316079\n",
            "Best k: 4 cross validation score: 0.9439985653337788\n"
          ]
        }
      ],
      "source": [
        "from sklearn.neighbors import KNeighborsClassifier\n",
        "\n",
        "best_k=None\n",
        "best_cross_val_score = -np.inf  # assumes that a higher score is better\n",
        "\n",
        "for k in 2**np.arange(0,11):\n",
        "    knn_fold_scores=[]\n",
        "    \n",
        "    for proper_train_indices, val_indices in k_fold.split(X.toarray()):\n",
        "        proper_train_features=X.toarray()[proper_train_indices]\n",
        "        proper_train_labels=np.array(document_labels)[proper_train_indices]\n",
        "        val_features=X.toarray()[val_indices]\n",
        "        val_labels=np.array(document_labels)[val_indices]\n",
        "    \n",
        "        classifier=KNeighborsClassifier(n_neighbors=k)\n",
        "        classifier.fit(proper_train_features,proper_train_labels)\n",
        "        knn_predicted_val_labels=classifier.predict(val_features)\n",
        "        knn_f1score=f1_score(val_labels,knn_predicted_val_labels,average='weighted')\n",
        "        knn_fold_scores.append(knn_f1score)\n",
        "    \n",
        "    knn_cross_val_score=np.mean(knn_fold_scores)\n",
        "    print('k:', k, 'cross validation score:', knn_cross_val_score)\n",
        "    \n",
        "    if knn_cross_val_score > best_cross_val_score:  # assumes that a higher score is better\n",
        "        best_cross_val_score = knn_cross_val_score\n",
        "        best_k=k\n",
        "\n",
        "print('Best k:', best_k, 'cross validation score:', best_cross_val_score)"
      ]
    },
    {
      "cell_type": "markdown",
      "metadata": {
        "id": "SpfG5aV86Qce"
      },
      "source": [
        "**(e) Classifier testing: Precision-Recall and ROC curves [10 points]**\n",
        "\n",
        "   - Use the best hyperparameters for each classifier from the previous question to **train** your classifiers on the full training data.\n",
        "   - Use test emails in the `testing` folder to **test** your classifiers and construct the plots below.\n",
        "\n",
        "Things to plot:\n",
        "\n",
        "   - Construct one plot containing 2 ROC curves, one for each classifier. (We vary the threshold probability of declaring an email to be spam to obtain these plots.)\n",
        "   - In the legend of this plot, display the AUC for each classifier.\n",
        "   - Construct one plot containing 2 precision-recall curves, one for each classifier.\n",
        "   - In the legend of each plot, display the average precision for each classifier using the sklearn function [`average_precision_score`](https://scikit-learn.org/stable/modules/generated/sklearn.metrics.average_precision_score.html#sklearn.metrics.average_precision_score); average precision is essentially an approximation of the area under the precision-recall curve that avoids being overly optimistic.\n",
        "\n",
        "Note that these plots are on the test data: you will have to read in this data, construct a document matrix and labels. Some words in the test data may not have been present in the training data: there are multiple ways to address this, briefly describe your approach.\n",
        "\n",
        "Things to answer:\n",
        "\n",
        "   - Of the ROC and Precision-Recall curves, which one would you use for this task and why?\n",
        "   - Which classifier is the best, according to your chosen curves?"
      ]
    },
    {
      "cell_type": "code",
      "execution_count": null,
      "metadata": {
        "id": "KFa8X2Tl6Qcf"
      },
      "outputs": [],
      "source": [
        "#your code here\n",
        "test_emails=[]\n",
        "test_labels=[]\n",
        "\n",
        "for hamemails in glob.iglob('./email-data/testing/*ham.txt'):\n",
        "    test_emails.append(makeWordList(hamemails))\n",
        "    test_labels.append(0)\n",
        "    \n",
        "for spamemails in glob.iglob('./email-data/testing/*spam.txt'):\n",
        "    test_emails.append(makeWordList(spamemails))\n",
        "    test_labels.append(1)\n",
        "    \n",
        "Y=vectorizer.transform(test_emails)"
      ]
    },
    {
      "cell_type": "code",
      "execution_count": null,
      "metadata": {
        "id": "iMQJNu1Z6Qcf",
        "outputId": "f9ce4a72-b178-47cb-da1b-706846e719cb"
      },
      "outputs": [
        {
          "data": {
            "image/png": "[encoded data removed]",
            "text/plain": [
              "<Figure size 432x288 with 1 Axes>"
            ]
          },
          "metadata": {
            "needs_background": "light"
          },
          "output_type": "display_data"
        },
        {
          "data": {
            "image/png": "[encoded data removed]",
            "text/plain": [
              "<Figure size 432x288 with 1 Axes>"
            ]
          },
          "metadata": {
            "needs_background": "light"
          },
          "output_type": "display_data"
        }
      ],
      "source": [
        "from sklearn.metrics import roc_curve, roc_auc_score\n",
        "from sklearn.metrics import precision_recall_curve\n",
        "from sklearn.metrics import average_precision_score\n",
        "import matplotlib.pyplot as plt\n",
        "\n",
        "final_knn_classifier=KNeighborsClassifier(n_neighbors=best_k)\n",
        "final_knn_classifier.fit(X.toarray(),np.array(document_labels))\n",
        "knn_predicted_test_probs=final_knn_classifier.predict_proba(Y.toarray())[:,1]\n",
        "\n",
        "\n",
        "best_max_features, best_min_samples_leaf = best_hyperparam_setting\n",
        "final_rf_classifier = RandomForestClassifier(max_features=best_max_features,\n",
        "                                             min_samples_leaf=best_min_samples_leaf,\n",
        "                                             random_state=0)\n",
        "final_rf_classifier.fit(X.toarray(), np.array(document_labels))\n",
        "rf_predicted_test_probs = final_rf_classifier.predict_proba(Y.toarray())[:,1]\n",
        "\n",
        "\n",
        "knn_false_positive_rate, knn_true_positive_rate, knn_threshold = roc_curve(test_labels,knn_predicted_test_probs)\n",
        "rf_false_positive_rate, rf_true_positive_rate, rf_threshold = roc_curve(test_labels,rf_predicted_test_probs)\n",
        "\n",
        "knn_roc_auc=roc_auc_score(test_labels,knn_predicted_test_probs)\n",
        "rf_roc_auc=roc_auc_score(test_labels,rf_predicted_test_probs)\n",
        "\n",
        "plt.subplots(1)\n",
        "plt.plot(knn_false_positive_rate,knn_true_positive_rate,label=(\"kNN, AUC: {0:.3f}\".format(knn_roc_auc)))\n",
        "plt.plot(rf_false_positive_rate,rf_true_positive_rate,label=(\"Random Forest, AUC: {0:.3f}\".format(rf_roc_auc)))\n",
        "plt.legend(fontsize='medium')\n",
        "plt.ylabel('True Positive Rate',fontweight ='bold', fontsize = 10)\n",
        "plt.xlabel('False Positive Rate',fontweight ='bold', fontsize = 10)\n",
        "plt.title('ROC Curve for kNN vs Random Forest',fontweight ='bold', fontsize = 14)\n",
        "plt.show()\n",
        "\n",
        "\n",
        "\n",
        "knn_precision, knn_recall, knn_thresholds=precision_recall_curve(test_labels,knn_predicted_test_probs)\n",
        "rf_precision,rf_recall,rf_thresholds=precision_recall_curve(test_labels,rf_predicted_test_probs)\n",
        "\n",
        "knn_avg_precision_score=average_precision_score(test_labels,knn_predicted_test_probs)\n",
        "rf_avg_precision_score=average_precision_score(test_labels,rf_predicted_test_probs)\n",
        "\n",
        "plt.subplots(1)\n",
        "plt.plot(knn_recall,knn_precision,label=(\"kNN, Average Precision Score: {0:.3f}\".format(knn_avg_precision_score)))\n",
        "plt.plot(rf_recall,rf_precision,label=(\"Random Forest, Average Precision Score: {0:.3f}\".format(rf_avg_precision_score)))\n",
        "plt.legend(fontsize='medium')\n",
        "plt.ylabel('Precision',fontweight ='bold', fontsize = 10)\n",
        "plt.xlabel('Recall',fontweight ='bold', fontsize = 10)\n",
        "plt.title('Precision-Recall Curve for kNN vs Random Forest',fontweight ='bold', fontsize = 14)\n",
        "plt.show()"
      ]
    },
    {
      "cell_type": "markdown",
      "metadata": {
        "id": "J38t3xOv6Qcg"
      },
      "source": [
        "## **Your answers to the above questions:**\n",
        "1. Since the training and testing text/vocabulary is different, we shouldn't use fit_transform() on test-dataset. We should only use the vocabulary that has been learned from the train-dataset. By using transform() on the test data, we only consider the vocabulary learned from train-corpus, thereby ignoring any new words found in test-set.\n",
        "\n",
        "2. The Precision-Recall Curve would be better-suited for this task because of the data imbalance in the training set. (ROC curves can present an overly optimistic view of an algorithm’s performance if there is a large skew in the class distribution (which is true in our training dataset).The ROC Plot for imbalanced datasets can be visually deceptive due to the misleading interpreration of the False Positive Rate.\n",
        "Precision-Recall curves on the hand, provide a more reliable picture of future classification performance, since they evaluate the fraction of positive predictions amongst the true positives.\n",
        "\n",
        "(Source referred to for answer 2: https://www.ncbi.nlm.nih.gov/pmc/articles/PMC4349800/)\n",
        "\n",
        "3. Accoridng to my chosen curve - which is Precision-Recall curve, the Random Forest classifier is better as its Average Precision Score is higher (0.905 vs 0.827 for kNN). Even if we consider the ROC curve, Random Forest performs better as the Area under the Curve for Random Forest is higher (0.946 vs 0.882 for kNN). Average Precision Score is a significant evaluation metric in this case as it would be more important to not mark a ham email as spam!)"
      ]
    },
    {
      "cell_type": "markdown",
      "metadata": {
        "id": "pkQwtbQa6Qch"
      },
      "source": [
        "# Part 2: Representation Learning [40 points]\n",
        "\n",
        "Before getting started, please put the attached file `pretrained_convnet.pt` in the same directory as this notebook.\n",
        "\n",
        "Recall from lecture the \"crumpled paper analogy\": in a neural net, as you progress through the layers from input to output, the layers should be \"unfolding the original space\" to disentangle the classes. When you get to the layer before the classifier, you should've changed the data representation into something that makes classification easy. **We will refer to the layer before the classifier in the neural net as the bottleneck layer.**\n",
        "\n",
        "In this problem, you will be using an output of a bottleneck layer from pre-trained CNN as input features for a few simple classifiers. The CNN provided was trained with the Fashion MNIST dataset which consists of 10 classes of 28x28 grayscale images; this dataset is very similar to MNIST in that there are 10 classes with images that are the same size as MNIST and in fact even the training and test set sizes are the same (60,000 and 10,000 respectively). However, the classes are not the digits 0 through 9. Instead the classes are:\n",
        "\n",
        "| Class | Description |\n",
        "| ----- | :---------: |\n",
        "| 0     | T-shirt/top |\n",
        "| 1     | Trouser     |\n",
        "| 2     | Pullover    |\n",
        "| 3     | Dress       |\n",
        "| 4     | Coat        |\n",
        "| 5     | Sandal      |\n",
        "| 6     | Shirt       |\n",
        "| 7     | Sneaker     |\n",
        "| 8     | Bag         |\n",
        "| 9     | Ankle boot  |"
      ]
    },
    {
      "cell_type": "markdown",
      "metadata": {
        "id": "dM22VZCv6Qch"
      },
      "source": [
        "Let's start with some imports."
      ]
    },
    {
      "cell_type": "code",
      "execution_count": null,
      "metadata": {
        "id": "cr9I4jDU6Qch"
      },
      "outputs": [],
      "source": [
        "%matplotlib inline\n",
        "import matplotlib.pyplot as plt\n",
        "import numpy as np\n",
        "\n",
        "import torch\n",
        "import torch.nn as nn\n",
        "import torchvision\n",
        "import torchvision.transforms as transforms\n",
        "from torchsummaryX import summary\n",
        "\n",
        "from UDA_pytorch_utils import UDA_pytorch_classifier_fit, \\\n",
        "        UDA_plot_train_val_accuracy_vs_epoch, UDA_pytorch_classifier_predict, \\\n",
        "        UDA_pytorch_model_transform, UDA_compute_accuracy"
      ]
    },
    {
      "cell_type": "markdown",
      "metadata": {
        "id": "iX3-Zntw6Qci"
      },
      "source": [
        "**Loading in the data.** We first load the Fashion MNIST dataset and plot some example images."
      ]
    },
    {
      "cell_type": "code",
      "execution_count": null,
      "metadata": {
        "id": "OKSLJ0Ca6Qci",
        "outputId": "4a7a26f5-59ac-4e40-b5b8-0cc4be75d923"
      },
      "outputs": [
        {
          "data": {
            "image/png": "[encoded data removed]",
            "text/plain": [
              "<Figure size 432x288 with 64 Axes>"
            ]
          },
          "metadata": {
            "needs_background": "light"
          },
          "output_type": "display_data"
        }
      ],
      "source": [
        "\n",
        "train_dataset = torchvision.datasets.FashionMNIST(root='data/',\n",
        "                                                  train=True,\n",
        "                                                  transform=transforms.ToTensor(),\n",
        "                                                  download=True)\n",
        "\n",
        "train_images = torch.tensor([image.numpy() for image, label in train_dataset])\n",
        "train_labels = torch.tensor([label for image, label in train_dataset])\n",
        "\n",
        "test_dataset = torchvision.datasets.FashionMNIST(root='data/',\n",
        "                                                 train=False,\n",
        "                                                 transform=transforms.ToTensor(),\n",
        "                                                 download=True)\n",
        "\n",
        "test_images = torch.tensor([image.numpy() for image, label in test_dataset])\n",
        "test_labels = torch.tensor([label for image, label in test_dataset])\n",
        "\n",
        "# show some of the first training images\n",
        "square_grid_num_rows = 8\n",
        "num_images_to_show = square_grid_num_rows ** 2\n",
        "for idx in range(num_images_to_show):\n",
        "    plt.subplot(square_grid_num_rows, square_grid_num_rows, idx + 1)\n",
        "    plt.imshow(train_images[idx][0], cmap='gray')\n",
        "    plt.axis('off')"
      ]
    },
    {
      "cell_type": "markdown",
      "metadata": {
        "id": "Tk3u7Jp16Qcj"
      },
      "source": [
        "**(a) [5 points]** Select train and test data that belong to classes 2 (corresponding to pullovers) or 6 (corresponding to fancier shirts than t-shirts; note: class 0 corresponds to t-shirts), i.e., subsample all the data that has label 2 or 6. Save the variables as `x_train`, `x_test`, `y_train`, `y_test`. From now on, we are only dealing with the images that are in classes 2 (pullovers) or 6 (shirts). Moreover, in `y_train` and `y_test`, please renumber the two classes so that pullovers now instead corresponds to 0 and shirts corresponds to 1 (we will consider shirts to be the \"positive\" class and pullovers to be the \"negative\" class)."
      ]
    },
    {
      "cell_type": "code",
      "execution_count": null,
      "metadata": {
        "id": "3rs3H0IG6Qcj"
      },
      "outputs": [],
      "source": [
        "train_images_array=np.array(train_images)\n",
        "train_labels_array=np.array(train_labels)\n",
        "\n",
        "x_train=[]\n",
        "y_train=[]\n",
        "\n",
        "for i,label in enumerate(train_labels_array):\n",
        "    if label==2:\n",
        "        x_train.append(train_images_array[i])\n",
        "        y_train.append(0)\n",
        "    elif(label==6):\n",
        "        x_train.append(train_images_array[i])\n",
        "        y_train.append(1)\n",
        "        \n",
        "test_images_array=np.array(test_images)\n",
        "test_labels_array=np.array(test_labels)\n",
        "\n",
        "x_test=[]\n",
        "y_test=[]\n",
        "\n",
        "for index,lbl in enumerate(test_labels_array):\n",
        "    if lbl==2:\n",
        "        x_test.append(test_images_array[index])\n",
        "        y_test.append(0)\n",
        "    elif lbl==6:\n",
        "        x_test.append(test_images_array[index])\n",
        "        y_test.append(1)\n",
        "        \n",
        "x_train=np.array(x_train)\n",
        "y_train=np.array(y_train)\n",
        "x_test=np.array(x_test)\n",
        "y_test=np.array(y_test)"
      ]
    },
    {
      "cell_type": "code",
      "execution_count": null,
      "metadata": {
        "id": "FHlOkraG6Qcj",
        "outputId": "18e1e674-bc11-47fc-aa9b-5a295e8b1c23"
      },
      "outputs": [
        {
          "name": "stdout",
          "output_type": "stream",
          "text": [
            "(12000, 1, 28, 28) (12000,)\n",
            "(2000, 1, 28, 28) (2000,)\n"
          ]
        }
      ],
      "source": [
        "\n",
        "print(x_train.shape, y_train.shape)\n",
        "print(x_test.shape, y_test.shape)"
      ]
    },
    {
      "cell_type": "markdown",
      "metadata": {
        "id": "ITwl3HMi6Qck"
      },
      "source": [
        "We will make some t-SNE visualizations shortly and using all the training data will be too slow. We reduce the size of the training dataset by randomly subsampling 1000 samples from `x_train`/`y_train` pairs and saving the subsampled versions as `x_train_small`/`y_train_small` (the i-th image in `x_train_small` should have its label given by the i-th entry in `y_train_small`). We have provided the indices of which 1000 samples to use (from within `x_train`/`y_train`)."
      ]
    },
    {
      "cell_type": "code",
      "execution_count": null,
      "metadata": {
        "id": "_VbMPrTX6Qck"
      },
      "outputs": [],
      "source": [
        "\n",
        "np.random.seed(0)\n",
        "random_sample = np.random.permutation(len(x_train))[:1000]"
      ]
    },
    {
      "cell_type": "code",
      "execution_count": null,
      "metadata": {
        "id": "ymu3jpUd6Qck"
      },
      "outputs": [],
      "source": [
        "\n",
        "x_train_small=x_train[random_sample]\n",
        "y_train_small=y_train[random_sample]"
      ]
    },
    {
      "cell_type": "markdown",
      "metadata": {
        "id": "pmShKtJb6Qcl"
      },
      "source": [
        "**(b) [9 points]** We are ready to load the pre-trained convnet. The bottleneck layer is right before the final linear layer and corresponds to the output of a ReLU that has 84 values. **We refer to the output of this ReLU as the bottleneck feature vector representation of whatever the input is.**\n",
        "\n",
        "Note that the convnet was pre-trained using the entire training dataset which consists of 60,000 samples and all 10 labels."
      ]
    },
    {
      "cell_type": "code",
      "execution_count": null,
      "metadata": {
        "id": "p3D2eBud6Qcl",
        "outputId": "93ae1836-04f6-4ff6-eb87-e55a07d91c5b"
      },
      "outputs": [
        {
          "name": "stdout",
          "output_type": "stream",
          "text": [
            "[Summary of pre-trained convnet]\n",
            "=========================================================\n",
            "        Kernel Shape     Output Shape   Params Mult-Adds\n",
            "Layer                                                   \n",
            "0_0     [1, 6, 3, 3]   [1, 6, 26, 26]     60.0   36.504k\n",
            "1_1                -   [1, 6, 26, 26]        -         -\n",
            "2_2                -   [1, 6, 13, 13]        -         -\n",
            "3_3    [6, 16, 3, 3]  [1, 16, 11, 11]    880.0  104.544k\n",
            "4_4                -  [1, 16, 11, 11]        -         -\n",
            "5_5                -    [1, 16, 5, 5]        -         -\n",
            "6_6                -         [1, 400]        -         -\n",
            "7_7       [400, 120]         [1, 120]   48.12k     48.0k\n",
            "8_8                -         [1, 120]        -         -\n",
            "9_9        [120, 84]          [1, 84]  10.164k    10.08k\n",
            "10_10              -          [1, 84]        -         -\n",
            "11_11       [84, 10]          [1, 10]    850.0     840.0\n",
            "---------------------------------------------------------\n",
            "                        Totals\n",
            "Total params           60.074k\n",
            "Trainable params       60.074k\n",
            "Non-trainable params       0.0\n",
            "Mult-Adds             199.968k\n",
            "=========================================================\n",
            "\n",
            "[Summary of the pre-trained convnet up to the bottleneck layer]\n",
            "=========================================================\n",
            "        Kernel Shape     Output Shape   Params Mult-Adds\n",
            "Layer                                                   \n",
            "0_0     [1, 6, 3, 3]   [1, 6, 26, 26]     60.0   36.504k\n",
            "1_1                -   [1, 6, 26, 26]        -         -\n",
            "2_2                -   [1, 6, 13, 13]        -         -\n",
            "3_3    [6, 16, 3, 3]  [1, 16, 11, 11]    880.0  104.544k\n",
            "4_4                -  [1, 16, 11, 11]        -         -\n",
            "5_5                -    [1, 16, 5, 5]        -         -\n",
            "6_6                -         [1, 400]        -         -\n",
            "7_7       [400, 120]         [1, 120]   48.12k     48.0k\n",
            "8_8                -         [1, 120]        -         -\n",
            "9_9        [120, 84]          [1, 84]  10.164k    10.08k\n",
            "10_10              -          [1, 84]        -         -\n",
            "---------------------------------------------------------\n",
            "                        Totals\n",
            "Total params           59.224k\n",
            "Trainable params       59.224k\n",
            "Non-trainable params       0.0\n",
            "Mult-Adds             199.128k\n",
            "=========================================================\n"
          ]
        },
        {
          "data": {
            "text/html": [
              "<div>\n",
              "<style scoped>\n",
              "    .dataframe tbody tr th:only-of-type {\n",
              "        vertical-align: middle;\n",
              "    }\n",
              "\n",
              "    .dataframe tbody tr th {\n",
              "        vertical-align: top;\n",
              "    }\n",
              "\n",
              "    .dataframe thead th {\n",
              "        text-align: right;\n",
              "    }\n",
              "</style>\n",
              "<table border=\"1\" class=\"dataframe\">\n",
              "  <thead>\n",
              "    <tr style=\"text-align: right;\">\n",
              "      <th></th>\n",
              "      <th>Kernel Shape</th>\n",
              "      <th>Output Shape</th>\n",
              "      <th>Params</th>\n",
              "      <th>Mult-Adds</th>\n",
              "    </tr>\n",
              "    <tr>\n",
              "      <th>Layer</th>\n",
              "      <th></th>\n",
              "      <th></th>\n",
              "      <th></th>\n",
              "      <th></th>\n",
              "    </tr>\n",
              "  </thead>\n",
              "  <tbody>\n",
              "    <tr>\n",
              "      <th>0_0</th>\n",
              "      <td>[1, 6, 3, 3]</td>\n",
              "      <td>[1, 6, 26, 26]</td>\n",
              "      <td>60.0</td>\n",
              "      <td>36504.0</td>\n",
              "    </tr>\n",
              "    <tr>\n",
              "      <th>1_1</th>\n",
              "      <td>-</td>\n",
              "      <td>[1, 6, 26, 26]</td>\n",
              "      <td>NaN</td>\n",
              "      <td>NaN</td>\n",
              "    </tr>\n",
              "    <tr>\n",
              "      <th>2_2</th>\n",
              "      <td>-</td>\n",
              "      <td>[1, 6, 13, 13]</td>\n",
              "      <td>NaN</td>\n",
              "      <td>NaN</td>\n",
              "    </tr>\n",
              "    <tr>\n",
              "      <th>3_3</th>\n",
              "      <td>[6, 16, 3, 3]</td>\n",
              "      <td>[1, 16, 11, 11]</td>\n",
              "      <td>880.0</td>\n",
              "      <td>104544.0</td>\n",
              "    </tr>\n",
              "    <tr>\n",
              "      <th>4_4</th>\n",
              "      <td>-</td>\n",
              "      <td>[1, 16, 11, 11]</td>\n",
              "      <td>NaN</td>\n",
              "      <td>NaN</td>\n",
              "    </tr>\n",
              "    <tr>\n",
              "      <th>5_5</th>\n",
              "      <td>-</td>\n",
              "      <td>[1, 16, 5, 5]</td>\n",
              "      <td>NaN</td>\n",
              "      <td>NaN</td>\n",
              "    </tr>\n",
              "    <tr>\n",
              "      <th>6_6</th>\n",
              "      <td>-</td>\n",
              "      <td>[1, 400]</td>\n",
              "      <td>NaN</td>\n",
              "      <td>NaN</td>\n",
              "    </tr>\n",
              "    <tr>\n",
              "      <th>7_7</th>\n",
              "      <td>[400, 120]</td>\n",
              "      <td>[1, 120]</td>\n",
              "      <td>48120.0</td>\n",
              "      <td>48000.0</td>\n",
              "    </tr>\n",
              "    <tr>\n",
              "      <th>8_8</th>\n",
              "      <td>-</td>\n",
              "      <td>[1, 120]</td>\n",
              "      <td>NaN</td>\n",
              "      <td>NaN</td>\n",
              "    </tr>\n",
              "    <tr>\n",
              "      <th>9_9</th>\n",
              "      <td>[120, 84]</td>\n",
              "      <td>[1, 84]</td>\n",
              "      <td>10164.0</td>\n",
              "      <td>10080.0</td>\n",
              "    </tr>\n",
              "    <tr>\n",
              "      <th>10_10</th>\n",
              "      <td>-</td>\n",
              "      <td>[1, 84]</td>\n",
              "      <td>NaN</td>\n",
              "      <td>NaN</td>\n",
              "    </tr>\n",
              "  </tbody>\n",
              "</table>\n",
              "</div>"
            ],
            "text/plain": [
              "        Kernel Shape     Output Shape   Params  Mult-Adds\n",
              "Layer                                                    \n",
              "0_0     [1, 6, 3, 3]   [1, 6, 26, 26]     60.0    36504.0\n",
              "1_1                -   [1, 6, 26, 26]      NaN        NaN\n",
              "2_2                -   [1, 6, 13, 13]      NaN        NaN\n",
              "3_3    [6, 16, 3, 3]  [1, 16, 11, 11]    880.0   104544.0\n",
              "4_4                -  [1, 16, 11, 11]      NaN        NaN\n",
              "5_5                -    [1, 16, 5, 5]      NaN        NaN\n",
              "6_6                -         [1, 400]      NaN        NaN\n",
              "7_7       [400, 120]         [1, 120]  48120.0    48000.0\n",
              "8_8                -         [1, 120]      NaN        NaN\n",
              "9_9        [120, 84]          [1, 84]  10164.0    10080.0\n",
              "10_10              -          [1, 84]      NaN        NaN"
            ]
          },
          "execution_count": 78,
          "metadata": {},
          "output_type": "execute_result"
        }
      ],
      "source": [
        "# load the pre-trained CNN\n",
        "convnet = nn.Sequential(nn.Conv2d(1, 6, 3),\n",
        "                        nn.ReLU(),\n",
        "                        nn.MaxPool2d(2),\n",
        "                        nn.Conv2d(6, 16, 3),\n",
        "                        nn.ReLU(),\n",
        "                        nn.MaxPool2d(2),\n",
        "                        nn.Flatten(),\n",
        "                        nn.Linear(in_features=16 * 5 * 5, out_features=120),\n",
        "                        nn.ReLU(),\n",
        "                        nn.Linear(in_features=120, out_features=84),\n",
        "                        nn.ReLU(),\n",
        "                        nn.Linear(in_features=84, out_features=10))\n",
        "convnet.load_state_dict(torch.load('pretrained_convnet.pt',map_location=torch.device('cpu')))\n",
        "convnet.eval()\n",
        "print('[Summary of pre-trained convnet]')\n",
        "summary(convnet, torch.zeros((1, 1, 28, 28)))\n",
        "print()\n",
        "\n",
        "# select the pretrained CNN upto the bottleneck layer\n",
        "intermediate_layer_model = convnet[:-1]\n",
        "print('[Summary of the pre-trained convnet up to the bottleneck layer]')\n",
        "summary(intermediate_layer_model, torch.zeros((1, 1, 28, 28)))"
      ]
    },
    {
      "cell_type": "markdown",
      "metadata": {
        "id": "jDVy0Rmy6Qcl"
      },
      "source": [
        "We first extract bottleneck feature vectors of the subsampled 1000 training data from the intermediate model."
      ]
    },
    {
      "cell_type": "code",
      "execution_count": null,
      "metadata": {
        "id": "htNcmKFK6Qcm"
      },
      "outputs": [],
      "source": [
        "\n",
        "x_train_small_bottleneck_representation = UDA_pytorch_model_transform(intermediate_layer_model, x_train_small)"
      ]
    },
    {
      "cell_type": "markdown",
      "metadata": {
        "id": "PaobIrjt6Qcm"
      },
      "source": [
        "Next, visualize two different types of features with t-SNE.\n",
        "\n",
        "1. Make a t-SNE plot using the **784 (=28$\\times$28) dimensional raw features** from the subsampled training data (i.e., using `x_train_small`). Set `n_components=2, verbose=1, perplexity=25, random_state=0` for `TSNE` from scikit-learn. Plot the two classes in different colors.\n",
        "\n",
        "2. Repeat the previous step (using the exact same arguments for `TSNE`) except now using the **84 dimensional bottleneck features** (i.e., using `x_train_small_bottleneck_representation`.\n",
        "\n",
        "You may need to convert between PyTorch tensors and NumPy arrays."
      ]
    },
    {
      "cell_type": "code",
      "execution_count": null,
      "metadata": {
        "id": "suClmmXt6Qcm",
        "outputId": "e9209588-9078-4ba2-dcc9-58b316af9754"
      },
      "outputs": [
        {
          "name": "stdout",
          "output_type": "stream",
          "text": [
            "[t-SNE] Computing 76 nearest neighbors...\n",
            "[t-SNE] Indexed 1000 samples in 0.288s...\n",
            "[t-SNE] Computed neighbors for 1000 samples in 2.480s...\n",
            "[t-SNE] Computed conditional probabilities for sample 1000 / 1000\n",
            "[t-SNE] Mean sigma: 1.929498\n",
            "[t-SNE] KL divergence after 250 iterations with early exaggeration: 70.154922\n",
            "[t-SNE] KL divergence after 1000 iterations: 1.066527\n",
            "[t-SNE] Computing 76 nearest neighbors...\n",
            "[t-SNE] Indexed 1000 samples in 0.038s...\n",
            "[t-SNE] Computed neighbors for 1000 samples in 0.268s...\n",
            "[t-SNE] Computed conditional probabilities for sample 1000 / 1000\n",
            "[t-SNE] Mean sigma: 2.053075\n",
            "[t-SNE] KL divergence after 250 iterations with early exaggeration: 67.024734\n",
            "[t-SNE] KL divergence after 1000 iterations: 0.988291\n"
          ]
        },
        {
          "data": {
            "text/plain": [
              "Text(0.5, 1.0, '84 Dimensional Bottleneck Features t-SNE Plot')"
            ]
          },
          "execution_count": 80,
          "metadata": {},
          "output_type": "execute_result"
        },
        {
          "data": {
            "image/png": "[encoded data removed]",
            "text/plain": [
              "<Figure size 432x288 with 1 Axes>"
            ]
          },
          "metadata": {
            "needs_background": "light"
          },
          "output_type": "display_data"
        },
        {
          "data": {
            "image/png": "[encoded data removed]",
            "text/plain": [
              "<Figure size 432x288 with 1 Axes>"
            ]
          },
          "metadata": {
            "needs_background": "light"
          },
          "output_type": "display_data"
        }
      ],
      "source": [
        "\n",
        "from sklearn.manifold import TSNE\n",
        "\n",
        "plt.subplots(1)\n",
        "tsne = TSNE(n_components=2, verbose=1, perplexity=25, random_state=0)\n",
        "feature_vectors_tsne2d = tsne.fit_transform(x_train_small.reshape(x_train_small.shape[0],-1))\n",
        "plt.scatter(feature_vectors_tsne2d[:,0],feature_vectors_tsne2d[:,1],c=y_train_small,cmap='RdBu')\n",
        "plt.title(\"784 Dimensional Raw Features t-SNE Plot\")\n",
        "\n",
        "plt.subplots(1)\n",
        "tsne_bottleneck=TSNE(n_components=2, verbose=1, perplexity=25, random_state=0)\n",
        "bottleneck_fv=tsne_bottleneck.fit_transform(np.array(x_train_small_bottleneck_representation))\n",
        "plt.scatter(bottleneck_fv[:,0],bottleneck_fv[:,1],c=y_train_small,cmap='RdBu')\n",
        "plt.title(\"84 Dimensional Bottleneck Features t-SNE Plot\")"
      ]
    },
    {
      "cell_type": "markdown",
      "metadata": {
        "id": "xEl3_idr6Qcn"
      },
      "source": [
        "**(c) [16 points]** We now evaluate on test data and compare several different classifiers. Train **5-NN** and **random forest** classifiers with **784 (=28$\\times$28) raw features** and, separately, the **84 bottleneck features** from **all training data**, respectively. That means you should train 4 models in total:\n",
        "\n",
        "1. 5-NN classifier trained on all raw training features\n",
        "2. 5-NN classifier trained on all training bottleneck features\n",
        "3. Random forest trained on all raw training features (for reproducibility of code, please use arguments `n_estimators=100, random_state=0` for `RandomForestClassifier`)\n",
        "4. Random forest trained on all training bottleneck features (again, use `n_estimators=100, random_state=0`)\n",
        "\n",
        "Test each model with corresponding **test dataset** and print the test accuracy. Also, compute and print the test accuracy of the **pre-trained convnet** (`convnet`) by using **test data**. You may think of this task as filling in the blanks of the following table with test accuracy results.\n",
        "\n",
        "| Model type       | Raw features        | Bottleneck features  |\n",
        "|:---------------- |:-------------------:|:--------------------:|\n",
        "| Pretrained CNN   | 0.891               |                      |\n",
        "| 5-NN             | 0.8560              | 0.888                |\n",
        "| Random forest    | 0.8765              | 0.898                |\n",
        "\n",
        "Important: the pre-trained convnet is for all 10 classes; only look at the probabilities corresponding to pullovers (class 2) and shirts (class 6), and take an argmax only over these two class probabilities to come up with predictions stricted to pullovers or shirts."
      ]
    },
    {
      "cell_type": "code",
      "execution_count": null,
      "metadata": {
        "id": "MH_mE2IW6Qco",
        "outputId": "3df13d79-8fcd-4737-e9c7-64497b45d4f4"
      },
      "outputs": [
        {
          "name": "stdout",
          "output_type": "stream",
          "text": [
            "5-NN Raw Features Accuracy:  0.856\n",
            "5-NN Bottleneck Features Accuracy:  0.888\n",
            "Random Forest Raw Features Accuracy:  0.8765000000000001\n",
            "Random Forest Bottleneck Features Accuracy:  0.898\n",
            "Pre-trained CNN Raw Features Accuracy:  0.891\n"
          ]
        }
      ],
      "source": [
        "\n",
        "from sklearn.neighbors import KNeighborsClassifier\n",
        "\n",
        "x_train_bottleneck_representation = UDA_pytorch_model_transform(intermediate_layer_model, x_train)\n",
        "x_test_bottleneck_representation = UDA_pytorch_model_transform(intermediate_layer_model, x_test)\n",
        "\n",
        "\n",
        "raw_5NN_classifier = KNeighborsClassifier(n_neighbors=5)\n",
        "raw_5NN_classifier.fit(x_train.reshape(x_train.shape[0],-1), y_train)\n",
        "raw_5nn_predicted_test_labels=raw_5NN_classifier.predict(x_test.reshape(x_test.shape[0],-1))\n",
        "raw_5nn_test_error=np.mean(raw_5nn_predicted_test_labels!=y_test)\n",
        "raw_5nn_test_accuracy=1-raw_5nn_test_error\n",
        "print(\"5-NN Raw Features Accuracy: \",raw_5nn_test_accuracy)\n",
        "\n",
        "bottleneck_5nn_classifier=KNeighborsClassifier(n_neighbors=5)\n",
        "bottleneck_5nn_classifier.fit(x_train_bottleneck_representation,y_train)\n",
        "bottleneck_5nn_predicted_test_labels=bottleneck_5nn_classifier.predict(x_test_bottleneck_representation)\n",
        "bottleneck_5nn_test_error=np.mean(bottleneck_5nn_predicted_test_labels!=y_test)\n",
        "bottleneck_5nn_test_accuracy=1-bottleneck_5nn_test_error\n",
        "print(\"5-NN Bottleneck Features Accuracy: \",bottleneck_5nn_test_accuracy)\n",
        "\n",
        "\n",
        "from sklearn.ensemble import RandomForestClassifier\n",
        "raw_rf_classifier = RandomForestClassifier(n_estimators=100,max_features='auto', min_samples_leaf=1, random_state=0)\n",
        "raw_rf_classifier.fit(x_train.reshape(x_train.shape[0],-1), y_train)\n",
        "raw_rf_predicted_test_labels=raw_rf_classifier.predict(x_test.reshape(x_test.shape[0],-1))\n",
        "raw_rf_test_error=np.mean(raw_rf_predicted_test_labels!=y_test)\n",
        "raw_rf_test_accuracy=1-raw_rf_test_error\n",
        "print(\"Random Forest Raw Features Accuracy: \",raw_rf_test_accuracy)\n",
        "\n",
        "bottleneck_rf_classifier=RandomForestClassifier(n_estimators=100,max_features='auto', min_samples_leaf=1, random_state=0)\n",
        "bottleneck_rf_classifier.fit(x_train_bottleneck_representation,y_train)\n",
        "bottleneck_rf_predicted_test_labels=bottleneck_rf_classifier.predict(x_test_bottleneck_representation)\n",
        "bottleneck_rf_test_error=np.mean(bottleneck_rf_predicted_test_labels!=y_test)\n",
        "bottleneck_rf_test_accuracy=1-bottleneck_rf_test_error\n",
        "print(\"Random Forest Bottleneck Features Accuracy: \", bottleneck_rf_test_accuracy)\n",
        "\n",
        "\n",
        "x_test_pretrained_representation = UDA_pytorch_model_transform(convnet, x_test)\n",
        "test_convnet_labels=np.argmax(x_test_pretrained_representation[:,[2,6]],axis=1)\n",
        "pretrained_convnet_test_error=np.mean(np.array(test_convnet_labels)!=y_test)\n",
        "pretrained_convnet_test_accuracy=1-pretrained_convnet_test_error\n",
        "\n",
        "print('Pre-trained CNN Raw Features Accuracy: ', pretrained_convnet_test_accuracy)"
      ]
    },
    {
      "cell_type": "markdown",
      "metadata": {
        "id": "5ZByD-Em6Qcp"
      },
      "source": [
        "Among the five models above, which model performed the best? Which model showed the lowest accuracy? For the 1-NN and random forest classifiers, is the prediction accuracy higher using bottleneck features instead of the raw features?"
      ]
    },
    {
      "cell_type": "markdown",
      "metadata": {
        "id": "K9gxivXV6Qcp"
      },
      "source": [
        "**Write your answers here:**\n",
        "\n",
        "Among the five models above, Random forest trained on all training bottleneck features performed the best as its accuracy is the highest (0.898).\n",
        "\n",
        "The lowest accuracy was shown by the 5-NN classifier trained on all raw training features.\n",
        "\n",
        "For the 5-NN and Random Forest classifiers, the prediction accuracy is higher using the bottleneck features instead of the raw features!"
      ]
    },
    {
      "cell_type": "markdown",
      "metadata": {
        "id": "6tP0x9yz6Qcp"
      },
      "source": [
        "**(d) [10 points]** We now look at plotting an ROC curve, varying $k$ in $k$-NN. Train k-NN classifiers with $k=1,2,...,50$ with **bottleneck** feature vectors of all **training** data. As a result, you will get 50 classifiers. Draw a scatter plot that has false positive rate (FPR) on x-axis and true positive rate (TPR) on y-axis. Each scatter point represents one k-NN classifier. Use the **test** data to compute FPR and TPR.\n",
        "\n",
        "Recall that true and false positive rate calculations require you to specify one of the two outcomes as the \"positive\" class and the other as the \"negative\" class. For this problem, use class 6 (shirts) as the \"positive\" class, and class 2 (pullovers) as the \"negative\" class."
      ]
    },
    {
      "cell_type": "code",
      "execution_count": null,
      "metadata": {
        "id": "qbi7IxQn6Qcp",
        "outputId": "02915c8e-0fb3-411e-c631-49eebb06abcd"
      },
      "outputs": [
        {
          "data": {
            "image/png": "[encoded data removed]",
            "text/plain": [
              "<Figure size 432x288 with 1 Axes>"
            ]
          },
          "metadata": {
            "needs_background": "light"
          },
          "output_type": "display_data"
        }
      ],
      "source": [
        "\n",
        "from sklearn.neighbors import KNeighborsClassifier\n",
        "from sklearn.metrics import confusion_matrix\n",
        "import matplotlib.pyplot as plt\n",
        "\n",
        "highest_TPR=-np.inf\n",
        "best_k=None\n",
        "\n",
        "for i in range(1,51):\n",
        "    i_classifier=KNeighborsClassifier(n_neighbors=i)\n",
        "    i_classifier.fit(x_train_bottleneck_representation,y_train)\n",
        "    i_predicted_test_probs=i_classifier.predict(x_test_bottleneck_representation)\n",
        "    i_matrix=confusion_matrix(y_test,i_predicted_test_probs)\n",
        "    i_TPR=i_matrix[1,1]/(i_matrix[1,1]+i_matrix[1,0])\n",
        "    i_FPR=i_matrix[0,1]/(i_matrix[0,1]+i_matrix[0,0])\n",
        "    if((i_TPR>highest_TPR) & (i_FPR<=0.125)):\n",
        "        highest_TPR=i_TPR\n",
        "        best_k=i\n",
        "    \n",
        "    plt.scatter(i_FPR,i_TPR)\n",
        "    plt.title('FPR vs TPR Scatter Plot',fontweight ='bold', fontsize = 10)\n",
        "    plt.xlabel('False Positive Rate',fontweight ='bold', fontsize = 8)\n",
        "    plt.ylabel('True Positive Rate',fontweight ='bold', fontsize = 8)"
      ]
    },
    {
      "cell_type": "markdown",
      "metadata": {
        "id": "eWNhAHAO6Qcq"
      },
      "source": [
        "Suppose you work for a company that wants to figure out when a shirt appears among photos that have either shirts or pullovers. The company tells you that it cannot tolerate a false positive rate of detecting shirts that is more than 12.5%. What value of number of nearest neighbors $k$ achieves the highest true positive rate, but doesn't have more than a 12.5% false positive rate?"
      ]
    },
    {
      "cell_type": "markdown",
      "metadata": {
        "id": "6ug2aoG26Qcq"
      },
      "source": [
        "**Write your answer here:** k=11 (TPR=90.3%)\n",
        "\n",
        "The code above considers the best_k to be the value of number of nearest neighbours k which achieves the highest TPR while the FPR stays <12.5%.\n",
        "As evident from the code block below, 11 (k=11) nearest neighbours achieves the highest True Positive Rate of 90.3%"
      ]
    },
    {
      "cell_type": "code",
      "execution_count": null,
      "metadata": {
        "id": "YvZI_Gmx6Qcq",
        "outputId": "0c038bf6-f234-445a-da8e-89327c4bbd61"
      },
      "outputs": [
        {
          "name": "stdout",
          "output_type": "stream",
          "text": [
            "value of number of nearest neighbors  𝑘  achieves the highest true positive rate (while FPR < 12.5%) :  11\n",
            "True Positive Rate for corresponding k:  0.903\n"
          ]
        }
      ],
      "source": [
        "\n",
        "print(\"value of number of nearest neighbors  𝑘  achieves the highest true positive rate (while FPR < 12.5%) : \",best_k)\n",
        "print(\"True Positive Rate for corresponding k: \",highest_TPR)"
      ]
    },
    {
      "cell_type": "markdown",
      "metadata": {
        "id": "fxwb0qIK6Qcr"
      },
      "source": [
        "# Part 3: Sentiment Analysis [40 points]\n",
        "\n",
        "Download data from: http://www.andrew.cmu.edu/user/georgech/HW3-data.zip <br>\n",
        "\n",
        "The folder contains:\n",
        "\n",
        "- `train.csv`\n",
        "- `test.csv`\n",
        "\n",
        "In this problem, we look at predicting whether a tweet has positive or negative sentiment.\n",
        "\n",
        "**We intentionally wrote this problem to be a bit open-ended to let you play with different neural net code yourself and also for you to compare against a classical baseline.** We will give full credit even if you subsample the training data. For example, you only work with 5000 randomly chosen training tweets instead of all of them (over 1 million tweets). Also, for the random forest part (the last part), you can keep track of only the most frequently occurring 1000 words (again, this is enough for full credit) and you can also set the RandomForestClassifier argument \"n_jobs\" to -1 to use all your CPU threads. However, do not subsample the test dataset (which is small anyways).\n",
        "\n",
        "If you want to have practice with what it's like working with a sizable dataset though, we do encourage you to try to use as much of the training data as possible (our solution code uses the full training data in an 80-20 split between a proper training set and a validation set, just like in lectures). Note that using all the data does involve more careful data preprocessing to avoid possible memory issues. Some suggestions:\n",
        "\n",
        "- Using your knowledge from weeks 1 and 2, you can write your own code to tokenize tweets and only include some of the tokens (e.g., only keeping the most common 1000 tokens, etc); in particular you can build your own vocabulary. As a suggestion, make vocabulary token \\#0 correspond to a special padding character `\"<pad>\"`; this special index 0 will in fact be automatically added by the batching process for recurrent neural nets when making different tweets within the same batch have the same length. As another suggestion, make a special vocabulary token `\"<unk>\"` for unknown tokens that you've decided not to keep track of. For example, if you only keep track of the most common 1000 tokens, then any token that is not one of these most common 1000 gets represented as `\"<unk>\"`.\n",
        "\n",
        "- For the last part, training a random forest for sentiment analysis could be very computationally expensive. If you are already subsampling the training data beforehand, then great, just work with a smaller dataset (note: you should use the same training data for both the LSTM and for the random forest so that the comparison between them is fair). If you want to still try to use the full training dataset or as much of it as possible, then we suggest that you represent the feature vectors as a sparse matrix. You might also want to set the \"max_samples\" argument to be something like 0.1 so that each tree uses a 10% subsample of the proper training set (with the default choice of 100 trees, across all your trees, you will likely use the vast majority of the full training set---it's just that each tree won't look at more than 10% of the proper training set). Also, simple data splitting suffices; cross-validation here would be very expensive. Moreover, it's fine to not train a random forest from scratch using the best hyperparameters found; instead just use whichever model was trained using the proper training data with the best hyperparameters found."
      ]
    },
    {
      "cell_type": "markdown",
      "metadata": {
        "id": "kw5ujeGb6Qcr"
      },
      "source": [
        "**(a) [5 points]** We first read in the tweet data. Read the data present in `train.csv` file. **Please do not change the filename. In particular, use a relative path, i.e., `./HW3-data/train.csv`**. Then do the following:\n",
        "\n",
        "1. Keep only the sentiment and sentiment text in the data - the first and the last coumn\n",
        "2. Print the number of positive and negative sentiment labels\n",
        "\n",
        "Note: If you are using `open()`, you may have to set `encoding='iso8859'`."
      ]
    },
    {
      "cell_type": "code",
      "execution_count": null,
      "metadata": {
        "id": "UVO2x0iG6Qcr"
      },
      "outputs": [],
      "source": [
        "\n",
        "import pandas as pd\n",
        "import numpy as np\n",
        "\n",
        "import os\n",
        "os.environ['KMP_DUPLICATE_LIB_OK'] = 'True'\n",
        "\n",
        "from UDA_pytorch_utils import UDA_pytorch_classifier_fit, \\\n",
        "        UDA_plot_train_val_accuracy_vs_epoch, UDA_pytorch_classifier_predict, \\\n",
        "        UDA_pytorch_model_transform, UDA_compute_accuracy\n",
        "\n",
        "df=pd.read_csv('./HW3-data/train.csv', header=None, usecols=[0,5],encoding='iso8859')\n",
        "\n",
        "all_train_labels=np.array(df[0].tolist()) #storing the sentiments in the training data\n",
        "all_train_tweets=np.array(df[5].tolist()) #storing the tweets"
      ]
    },
    {
      "cell_type": "code",
      "execution_count": null,
      "metadata": {
        "id": "GqUGVb9D6Qcs",
        "outputId": "47c9202c-152e-414f-dddd-267d52b25f21"
      },
      "outputs": [
        {
          "name": "stdout",
          "output_type": "stream",
          "text": [
            "Number of Positive Sentiment Labels:  15039\n",
            "Number of Negative Sentiment Labels:  14961\n"
          ]
        }
      ],
      "source": [
        "np.random.seed(0)\n",
        "random_sample=np.random.permutation(len(all_train_labels))[:30000]\n",
        "\n",
        "train_labels=all_train_labels[random_sample]\n",
        "train_tweets=all_train_tweets[random_sample]\n",
        "\n",
        "print(\"Number of Positive Sentiment Labels: \",train_labels.tolist().count(1))\n",
        "print(\"Number of Negative Sentiment Labels: \",train_labels.tolist().count(0))"
      ]
    },
    {
      "cell_type": "markdown",
      "metadata": {
        "id": "V9PoOGZ56Qcs"
      },
      "source": [
        "**(b) [25 points]** Modify the LSTM demo code from lecture to work with this Twitter dataset. Play with the learning rate and batch size so that the training gives reasonable increases in training and validation accuracies as we progress through epochs (leave the number of epochs at 10). Also feel free to try different neural net architectures (although you do not have to). What test accuracy are you able to achieve?"
      ]
    },
    {
      "cell_type": "code",
      "execution_count": null,
      "metadata": {
        "id": "0ZF2nwM76Qcs"
      },
      "outputs": [],
      "source": [
        "\n",
        "from torchnlp.encoders.text import SpacyEncoder\n",
        "import spacy\n",
        "import torch\n",
        "import torch.nn as nn\n",
        "from torchsummaryX import summary\n",
        "\n",
        "all_train_tweets_labels=list(zip(train_labels.tolist(),train_tweets.tolist()))\n",
        "\n",
        "proper_train_tweet_size = int(len(train_labels) * 0.8)\n",
        "val_size = len(train_labels) - proper_train_tweet_size\n",
        "\n",
        "proper_train_tweets_dataset, val_dataset = torch.utils.data.random_split(all_train_tweets_labels,\n",
        "                                                                  [proper_train_tweet_size,\n",
        "                                                                   val_size])"
      ]
    },
    {
      "cell_type": "code",
      "execution_count": null,
      "metadata": {
        "id": "2b346_CL6Qcs"
      },
      "outputs": [],
      "source": [
        "nlp = spacy.load(\"en_core_web_sm\")\n",
        "encoder = SpacyEncoder([tweet[1] for tweet in proper_train_tweets_dataset])"
      ]
    },
    {
      "cell_type": "code",
      "execution_count": null,
      "metadata": {
        "id": "HUlf-18F6Qct"
      },
      "outputs": [],
      "source": [
        "proper_train_tweets_encoded=[encoder.encode(tweet[1]) for tweet in proper_train_tweets_dataset]"
      ]
    },
    {
      "cell_type": "code",
      "execution_count": null,
      "metadata": {
        "id": "Gsdq7jUP6Qct",
        "outputId": "06dc1ad6-0fe9-4a8e-f688-b50fe4a0739f"
      },
      "outputs": [
        {
          "data": {
            "text/plain": [
              "tensor([5, 6])"
            ]
          },
          "execution_count": 45,
          "metadata": {},
          "output_type": "execute_result"
        }
      ],
      "source": [
        "proper_train_tweets_encoded[0]"
      ]
    },
    {
      "cell_type": "code",
      "execution_count": null,
      "metadata": {
        "id": "ZLYuYL5U6Qct",
        "outputId": "acbf8675-36f7-40d1-b531-f77b4da089c8"
      },
      "outputs": [
        {
          "data": {
            "text/plain": [
              "(1, 'follow mehh ')"
            ]
          },
          "execution_count": 46,
          "metadata": {},
          "output_type": "execute_result"
        }
      ],
      "source": [
        "proper_train_tweets_dataset[0]\n",
        "#Loading the actual tweet in the training dataset"
      ]
    },
    {
      "cell_type": "code",
      "execution_count": null,
      "metadata": {
        "id": "Xc94NrHR6Qcu",
        "outputId": "3874a435-2665-47fd-b439-a67c3d14fd6f"
      },
      "outputs": [
        {
          "name": "stdout",
          "output_type": "stream",
          "text": [
            "['follow', 'mehh']\n"
          ]
        }
      ],
      "source": [
        "print([encoder.vocab[word_idx] for word_idx in proper_train_tweets_encoded[0]])\n",
        " #Just verifying the encoded vocabulary with the original tweet"
      ]
    },
    {
      "cell_type": "code",
      "execution_count": null,
      "metadata": {
        "id": "HYSB1ttY6Qcu"
      },
      "outputs": [],
      "source": [
        "import torch\n",
        "import torch.nn as nn\n",
        "from torchsummaryX import summary\n",
        "\n",
        "proper_train_labels=torch.tensor([label[0] for label in proper_train_tweets_dataset])"
      ]
    },
    {
      "cell_type": "code",
      "execution_count": null,
      "metadata": {
        "id": "noKrqmVr6Qcu"
      },
      "outputs": [],
      "source": [
        "val_encoded=[encoder.encode(data[1]) for data in val_dataset]"
      ]
    },
    {
      "cell_type": "code",
      "execution_count": null,
      "metadata": {
        "id": "D67lo2XW6Qcv"
      },
      "outputs": [],
      "source": [
        "val_labels=torch.tensor([val_label[0] for val_label in val_dataset])"
      ]
    },
    {
      "cell_type": "code",
      "execution_count": null,
      "metadata": {
        "id": "2rGwj6LM6Qcv"
      },
      "outputs": [],
      "source": [
        "proper_train_encoded_and_labels=list(zip(proper_train_tweets_encoded,proper_train_labels))\n",
        "val_dataset_encoded_and_labels=list(zip(val_encoded,val_labels))"
      ]
    },
    {
      "cell_type": "code",
      "execution_count": null,
      "metadata": {
        "id": "HuYkPTZA6Qcv"
      },
      "outputs": [],
      "source": [
        "from torchnlp.word_to_vector import GloVe\n",
        "pretrained_embedding = GloVe(name='6B', dim=100)"
      ]
    },
    {
      "cell_type": "code",
      "execution_count": null,
      "metadata": {
        "id": "dDNVlBM26Qcv"
      },
      "outputs": [],
      "source": [
        "embedding_weights=torch.Tensor(encoder.vocab_size,pretrained_embedding.dim)\n",
        "\n",
        "for i,token in enumerate(encoder.vocab):\n",
        "    embedding_weights[i]=pretrained_embedding[token]"
      ]
    },
    {
      "cell_type": "code",
      "execution_count": null,
      "metadata": {
        "id": "Xd9e_GSQ6Qcw"
      },
      "outputs": [],
      "source": [
        "from UDA_pytorch_utils import UDA_LSTMforSequential\n",
        "\n",
        "simple_lstm_model=nn.Sequential(nn.Embedding.from_pretrained(embedding_weights),\n",
        "                               UDA_LSTMforSequential(100,64),\n",
        "                               nn.Linear(64,2))"
      ]
    },
    {
      "cell_type": "code",
      "execution_count": null,
      "metadata": {
        "id": "0uv577Pv6Qcw",
        "outputId": "b6ee278a-ea28-49a5-faf1-0319b7d7eed2"
      },
      "outputs": [
        {
          "name": "stdout",
          "output_type": "stream",
          "text": [
            "=============================================================\n",
            "                Kernel Shape Output Shape   Params Mult-Adds\n",
            "Layer                                                       \n",
            "0_0             [100, 42660]  [1, 5, 100]        -         -\n",
            "1_1.LSTM_model             -   [1, 5, 64]  42.496k   41.984k\n",
            "2_2                  [64, 2]       [1, 2]    130.0     128.0\n",
            "-------------------------------------------------------------\n",
            "                         Totals\n",
            "Total params          4.308626M\n",
            "Trainable params        42.626k\n",
            "Non-trainable params     4.266M\n",
            "Mult-Adds               42.112k\n",
            "=============================================================\n"
          ]
        },
        {
          "data": {
            "text/html": [
              "<div>\n",
              "<style scoped>\n",
              "    .dataframe tbody tr th:only-of-type {\n",
              "        vertical-align: middle;\n",
              "    }\n",
              "\n",
              "    .dataframe tbody tr th {\n",
              "        vertical-align: top;\n",
              "    }\n",
              "\n",
              "    .dataframe thead th {\n",
              "        text-align: right;\n",
              "    }\n",
              "</style>\n",
              "<table border=\"1\" class=\"dataframe\">\n",
              "  <thead>\n",
              "    <tr style=\"text-align: right;\">\n",
              "      <th></th>\n",
              "      <th>Kernel Shape</th>\n",
              "      <th>Output Shape</th>\n",
              "      <th>Params</th>\n",
              "      <th>Mult-Adds</th>\n",
              "    </tr>\n",
              "    <tr>\n",
              "      <th>Layer</th>\n",
              "      <th></th>\n",
              "      <th></th>\n",
              "      <th></th>\n",
              "      <th></th>\n",
              "    </tr>\n",
              "  </thead>\n",
              "  <tbody>\n",
              "    <tr>\n",
              "      <th>0_0</th>\n",
              "      <td>[100, 42660]</td>\n",
              "      <td>[1, 5, 100]</td>\n",
              "      <td>NaN</td>\n",
              "      <td>NaN</td>\n",
              "    </tr>\n",
              "    <tr>\n",
              "      <th>1_1.LSTM_model</th>\n",
              "      <td>-</td>\n",
              "      <td>[1, 5, 64]</td>\n",
              "      <td>42496.0</td>\n",
              "      <td>41984.0</td>\n",
              "    </tr>\n",
              "    <tr>\n",
              "      <th>2_2</th>\n",
              "      <td>[64, 2]</td>\n",
              "      <td>[1, 2]</td>\n",
              "      <td>130.0</td>\n",
              "      <td>128.0</td>\n",
              "    </tr>\n",
              "  </tbody>\n",
              "</table>\n",
              "</div>"
            ],
            "text/plain": [
              "                Kernel Shape Output Shape   Params  Mult-Adds\n",
              "Layer                                                        \n",
              "0_0             [100, 42660]  [1, 5, 100]      NaN        NaN\n",
              "1_1.LSTM_model             -   [1, 5, 64]  42496.0    41984.0\n",
              "2_2                  [64, 2]       [1, 2]    130.0      128.0"
            ]
          },
          "execution_count": 55,
          "metadata": {},
          "output_type": "execute_result"
        }
      ],
      "source": [
        "summary(simple_lstm_model, torch.zeros((1, 5), dtype=torch.long))"
      ]
    },
    {
      "cell_type": "code",
      "execution_count": null,
      "metadata": {
        "id": "Hc8ZCz7P6Qcx",
        "outputId": "179e8e50-e347-4799-c584-8e0e6d716afa"
      },
      "outputs": [
        {
          "name": "stdout",
          "output_type": "stream",
          "text": [
            "Epoch 1 [==================================================] 24000/24000\n",
            "  Train accuracy: 0.5352\n",
            "  Validation accuracy: 0.5305\n",
            "Epoch 2 [==================================================] 24000/24000\n",
            "  Train accuracy: 0.5344\n",
            "  Validation accuracy: 0.5130\n",
            "Epoch 3 [==================================================] 24000/24000\n",
            "  Train accuracy: 0.5818\n",
            "  Validation accuracy: 0.5672\n",
            "Epoch 4 [==================================================] 24000/24000\n",
            "  Train accuracy: 0.5917\n",
            "  Validation accuracy: 0.5732\n",
            "Epoch 5 [==================================================] 24000/24000\n",
            "  Train accuracy: 0.5259\n",
            "  Validation accuracy: 0.5113\n",
            "Epoch 6 [==================================================] 24000/24000\n",
            "  Train accuracy: 0.7104\n",
            "  Validation accuracy: 0.6753\n",
            "Epoch 7 [==================================================] 24000/24000\n",
            "  Train accuracy: 0.5804\n",
            "  Validation accuracy: 0.5688\n",
            "Epoch 8 [==================================================] 24000/24000\n",
            "  Train accuracy: 0.5695\n",
            "  Validation accuracy: 0.5620\n",
            "Epoch 9 [==================================================] 24000/24000\n",
            "  Train accuracy: 0.6201\n",
            "  Validation accuracy: 0.5978\n",
            "Epoch 10 [==================================================] 24000/24000\n",
            "  Train accuracy: 0.7160\n",
            "  Validation accuracy: 0.6595\n"
          ]
        },
        {
          "data": {
            "image/png": "[encoded data removed]",
            "text/plain": [
              "<Figure size 432x288 with 1 Axes>"
            ]
          },
          "metadata": {
            "needs_background": "light"
          },
          "output_type": "display_data"
        }
      ],
      "source": [
        "num_epochs = 10  \n",
        "batch_size = 64\n",
        "learning_rate = 0.022\n",
        "\n",
        "train_accuracies, val_accuracies= UDA_pytorch_classifier_fit(simple_lstm_model,\n",
        "                                                             torch.optim.Adam(simple_lstm_model.parameters(),\n",
        "                                                                             lr=learning_rate),\n",
        "                                                            nn.CrossEntropyLoss(),\n",
        "                                                            proper_train_encoded_and_labels,val_dataset_encoded_and_labels,\n",
        "                                                            num_epochs,batch_size,\n",
        "                                                            sequence=True)\n",
        "UDA_plot_train_val_accuracy_vs_epoch(train_accuracies, val_accuracies)"
      ]
    },
    {
      "cell_type": "code",
      "execution_count": null,
      "metadata": {
        "id": "XE5b6ddh6Qcx"
      },
      "outputs": [],
      "source": [
        "df_test=pd.read_csv('./HW3-data/test.csv', header=None, usecols=[0,5],encoding='iso8859')\n",
        "\n",
        "test_labels=np.array(df_test[0].tolist()) #storing the sentiments in the training data\n",
        "test_tweets=np.array(df_test[5].tolist()) #storing the tweets\n",
        "\n",
        "test_dataset=list(zip(test_labels.tolist(),test_tweets.tolist()))"
      ]
    },
    {
      "cell_type": "code",
      "execution_count": null,
      "metadata": {
        "id": "B5LiRfg66Qcy"
      },
      "outputs": [],
      "source": [
        "test_encoded=[encoder.encode(test_data[1]) for test_data in test_dataset]"
      ]
    },
    {
      "cell_type": "code",
      "execution_count": null,
      "metadata": {
        "id": "s9NLUt4B6Qcy"
      },
      "outputs": [],
      "source": [
        "test_labels=torch.tensor([test_lbl[0] for test_lbl in test_dataset])"
      ]
    },
    {
      "cell_type": "code",
      "execution_count": null,
      "metadata": {
        "id": "4DRp6SBD6Qcz"
      },
      "outputs": [],
      "source": [
        "predicted_test_labels = UDA_pytorch_classifier_predict(simple_lstm_model,\n",
        "                                                       test_encoded,\n",
        "                                                       sequence=True)"
      ]
    },
    {
      "cell_type": "code",
      "execution_count": null,
      "metadata": {
        "id": "Jw_5lGx66Qc0",
        "outputId": "8c9de5fc-3543-4551-d88f-5a540cf3ab60"
      },
      "outputs": [
        {
          "name": "stdout",
          "output_type": "stream",
          "text": [
            "Test accuracy: 0.5943775100401606\n"
          ]
        }
      ],
      "source": [
        "print('Test accuracy:', UDA_compute_accuracy(predicted_test_labels, test_labels))"
      ]
    },
    {
      "cell_type": "markdown",
      "metadata": {
        "id": "dg2g-VYs6Qc0"
      },
      "source": [
        "**(c) [10 points]** How well does an LSTM compare with using a classical classifier? To investigate this question, let's try training a random forest for sentiment analysis. Your code from part **(b)** should involve coming up with encoded representations of text, i.e., representing a tweet using a sequence of word indices. Use this to come up with a term frequency representation for each tweet. Feel free to remove stop words and/or apply TF-IDF weighting, and then feed the resulting feature vector representations for tweets to a random forest classifier. You can use cross-validation to select hyperparameters. Try to make the random forest classifier perform as well as possible (it is good practice in real-world applications to try to make baselines as good as possible rather than intentionally using a baseline with lousy hyperparameter choices; in particular, it is *bad* practice to tune hyperparameters carefully only on a method you're proposing while not tuning hyperparameters on baselines!). What test set accuracy are you able to achieve with the random forest?"
      ]
    },
    {
      "cell_type": "code",
      "execution_count": null,
      "metadata": {
        "id": "27R5THpp6Qc0",
        "outputId": "de6be66e-e8c7-4a03-9965-98839939bbfa"
      },
      "outputs": [
        {
          "name": "stdout",
          "output_type": "stream",
          "text": [
            "Number of unique words in vocabulary:  952\n"
          ]
        }
      ],
      "source": [
        "\n",
        "from sklearn.ensemble import RandomForestClassifier\n",
        "\n",
        "rf_train_tweets=[]\n",
        "rf_train_labels=[]\n",
        "\n",
        "#Making sure I use the exact same split/distribution of the training and validation data\n",
        "#as was used for the LSTM model\n",
        "for label,tweet in proper_train_tweets_dataset:\n",
        "    rf_train_tweets.append(tweet)\n",
        "    rf_train_labels.append(label)\n",
        "    \n",
        "rf_val_tweets=[]\n",
        "rf_val_labels=[]\n",
        "\n",
        "for val_label,val_tweet in val_dataset:\n",
        "    rf_val_tweets.append(val_tweet)\n",
        "    rf_val_labels.append(val_label)\n",
        "\n",
        "rf_full_train_data=rf_train_tweets + rf_val_tweets\n",
        "rf_full_train_labels=rf_train_labels + rf_val_labels\n",
        "\n",
        "\n",
        "from sklearn.feature_extraction.text import TfidfVectorizer\n",
        "\n",
        "vectorizer=TfidfVectorizer(stop_words=\"english\",min_df=30,max_df=0.92)\n",
        "X=vectorizer.fit_transform(rf_full_train_data)\n",
        "print(\"Number of unique words in vocabulary: \",len(vectorizer.vocabulary_))\n",
        "\n",
        "Xtrain=vectorizer.transform(rf_train_tweets) #The shape of this matrix is used to pass to num_features below \n",
        "V=vectorizer.transform(rf_val_tweets)"
      ]
    },
    {
      "cell_type": "code",
      "execution_count": null,
      "metadata": {
        "id": "q79FOmat6Qc1",
        "outputId": "609fdf97-8924-4d8c-da13-947cb96f0f12"
      },
      "outputs": [
        {
          "name": "stdout",
          "output_type": "stream",
          "text": [
            "Hyperparameter:  (8, 1) error rate:  0.2781666666666667\n",
            "Hyperparameter:  (8, 2) error rate:  0.272\n",
            "Hyperparameter:  (8, 4) error rate:  0.2745\n",
            "Hyperparameter:  (8, 8) error rate:  0.275\n",
            "Hyperparameter:  (8, 16) error rate:  0.2785\n",
            "Hyperparameter:  (31, 1) error rate:  0.2788333333333333\n",
            "Hyperparameter:  (31, 2) error rate:  0.2715\n",
            "Hyperparameter:  (31, 4) error rate:  0.2735\n",
            "Hyperparameter:  (31, 8) error rate:  0.2795\n",
            "Hyperparameter:  (31, 16) error rate:  0.285\n",
            "Hyperparameter:  (124, 1) error rate:  0.2831666666666667\n",
            "Hyperparameter:  (124, 2) error rate:  0.2783333333333333\n",
            "Hyperparameter:  (124, 4) error rate:  0.2805\n",
            "Hyperparameter:  (124, 8) error rate:  0.2815\n",
            "Hyperparameter:  (124, 16) error rate:  0.2935\n",
            "Best hyperparameter:  (31, 2) cross validation error:  0.2715\n"
          ]
        }
      ],
      "source": [
        "lowest_error = np.inf\n",
        "best_hyperparameter_setting = None\n",
        "\n",
        "num_features = Xtrain.shape[1]\n",
        "\n",
        "hyperparameter_settings = [(max_features, min_samples_leaf)\n",
        "                           for max_features in [int(np.ceil(np.sqrt(num_features) / 4)),\n",
        "                                                int(np.ceil(np.sqrt(num_features))),\n",
        "                                                int(np.ceil(np.sqrt(num_features) * 4))]\n",
        "                           for min_samples_leaf in [1, 2, 4, 8, 16]]\n",
        "\n",
        "for hyperparameter_setting in hyperparameter_settings:\n",
        "    max_features, min_samples_leaf = hyperparameter_setting\n",
        "    rf_classifier=RandomForestClassifier(max_features=max_features,\n",
        "                                        min_samples_leaf=min_samples_leaf,n_jobs=-1,random_state=0)\n",
        "    rf_classifier.fit(Xtrain.toarray(),rf_train_labels)\n",
        "    rf_predicted_train_labels=rf_classifier.predict(V.toarray())\n",
        "    error=np.mean(rf_predicted_train_labels!=rf_val_labels)\n",
        "    print('Hyperparameter: ', hyperparameter_setting, 'error rate: ', error)\n",
        "    \n",
        "    if error<lowest_error:\n",
        "        lowest_error=error\n",
        "        best_hyperparameter_setting=hyperparameter_setting\n",
        "        \n",
        "print('Best hyperparameter: ', best_hyperparameter_setting, 'cross validation error: ', lowest_error)"
      ]
    },
    {
      "cell_type": "code",
      "execution_count": null,
      "metadata": {
        "id": "5OFPMbxI6Qc1",
        "outputId": "51d5b526-a404-4c12-c68d-ba313e496720"
      },
      "outputs": [
        {
          "name": "stdout",
          "output_type": "stream",
          "text": [
            "Random Forest Model Test Accuracy:  0.5582329317269077\n"
          ]
        }
      ],
      "source": [
        "Y=vectorizer.transform(test_tweets)\n",
        "\n",
        "best_max_features, best_min_samples_split = best_hyperparameter_setting\n",
        "\n",
        "final_rf_classifier = RandomForestClassifier(max_features=best_max_features,\n",
        "                                             min_samples_leaf=best_min_samples_split,\n",
        "                                             random_state=0)\n",
        "final_rf_classifier.fit(X.toarray(),rf_full_train_labels)\n",
        "predicted_test_labels=final_rf_classifier.predict(Y.toarray())\n",
        "test_set_error = np.mean(predicted_test_labels != df_test[0].tolist())\n",
        "test_accuracy=1-test_set_error\n",
        "print(\"Random Forest Model Test Accuracy: \",test_accuracy)"
      ]
    }
  ],
  "metadata": {
    "kernelspec": {
      "display_name": "Python 3",
      "language": "python",
      "name": "python3"
    },
    "language_info": {
      "codemirror_mode": {
        "name": "ipython",
        "version": 3
      },
      "file_extension": ".py",
      "mimetype": "text/x-python",
      "name": "python",
      "nbconvert_exporter": "python",
      "pygments_lexer": "ipython3",
      "version": "3.8.5"
    },
    "colab": {
      "provenance": []
    }
  },
  "nbformat": 4,
  "nbformat_minor": 0
}